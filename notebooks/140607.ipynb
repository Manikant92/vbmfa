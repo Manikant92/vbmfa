{
 "metadata": {
  "name": "",
  "signature": "sha256:28e2460b442510c3c50c9bbd9a36693191051823e7210ae7a0b2f2329ce5009a"
 },
 "nbformat": 3,
 "nbformat_minor": 0,
 "worksheets": [
  {
   "cells": [
    {
     "cell_type": "code",
     "collapsed": false,
     "input": [
      "import numpy as np\n",
      "from numpy import transpose as tr\n",
      "import sklearn.datasets as ds\n",
      "from sklearn.decomposition import ProbabilisticPCA as PPCA\n",
      "from sklearn.decomposition import PCA\n",
      "\n",
      "import matplotlib.pyplot as plt\n",
      "import matplotlib.cm as plt_cm\n",
      "import matplotlib.colors as plt_col\n",
      "import matplotlib.patches as plt_patches\n",
      "\n",
      "import sys\n",
      "\n",
      "sys.path.append('../src')\n",
      "np.set_printoptions(precision=4, suppress=True)\n",
      "%matplotlib inline\n",
      "%load_ext autoreload\n",
      "%autoreload 2\n",
      "\n",
      "import model\n",
      "import data"
     ],
     "language": "python",
     "metadata": {},
     "outputs": [],
     "prompt_number": 1
    },
    {
     "cell_type": "code",
     "collapsed": false,
     "input": [
      "import numpy as np\n",
      "from numpy import transpose as tr\n",
      "import sklearn.datasets as ds\n",
      "from sklearn.decomposition import ProbabilisticPCA as PPCA\n",
      "from sklearn.decomposition import PCA\n",
      "\n",
      "import matplotlib.pyplot as plt\n",
      "import matplotlib.cm as plt_cm\n",
      "import matplotlib.colors as plt_col\n",
      "import matplotlib.patches as plt_patches\n",
      "\n",
      "import sys\n",
      "\n",
      "sys.path.append('../src')\n",
      "np.set_printoptions(precision=4, suppress=True)\n",
      "%matplotlib inline\n",
      "%load_ext autoreload\n",
      "%autoreload 2\n",
      "\n",
      "import model\n",
      "import q\n",
      "import data"
     ],
     "language": "python",
     "metadata": {},
     "outputs": [
      {
       "output_type": "stream",
       "stream": "stdout",
       "text": [
        "The autoreload extension is already loaded. To reload it, use:\n",
        "  %reload_ext autoreload\n"
       ]
      }
     ],
     "prompt_number": 2
    },
    {
     "cell_type": "markdown",
     "metadata": {},
     "source": [
      "# $Q(\\nu^{s,q})$"
     ]
    },
    {
     "cell_type": "code",
     "collapsed": false,
     "input": [
      "def simulate_lambda(p, precision):\n",
      "    q = len(precision)\n",
      "    l = np.empty((p, q))\n",
      "    for j in range(q):\n",
      "        l[:, j] = np.random.normal(0.0, 1.0 / precision[j], p)\n",
      "    return l"
     ],
     "language": "python",
     "metadata": {},
     "outputs": [],
     "prompt_number": 3
    },
    {
     "cell_type": "code",
     "collapsed": false,
     "input": [
      "np.random.seed(0)\n",
      "P = 10000\n",
      "Q = 5\n",
      "q_l = q.Lambda(P, Q, 1)\n",
      "q_l.mean = simulate_lambda(P, [1000, 100.0, 10.0, 0.1, 0.01])\n",
      "for i in range (P):\n",
      "    q_l.pre *= 10\n",
      "    q_l.cov = q_l.pre**-1\n",
      "    \n",
      "q_nu = q.Nu(P, Q)\n",
      "hyper = model.Hyper(P, Q, 1)\n",
      "hyper.a = 1e-5\n",
      "hyper.b = 1e-5\n",
      "q_nu.update(hyper, q_l)\n",
      "print q_nu.expectation()"
     ],
     "language": "python",
     "metadata": {},
     "outputs": [
      {
       "output_type": "stream",
       "stream": "stderr",
       "text": [
        "-c:8: RuntimeWarning: divide by zero encountered in reciprocal\n",
        "-c:7: RuntimeWarning: overflow encountered in multiply\n"
       ]
      },
      {
       "output_type": "stream",
       "stream": "stdout",
       "text": [
        "[ 999509.6393   10174.7844     100.7286       0.0099       0.0001]\n"
       ]
      }
     ],
     "prompt_number": 4
    },
    {
     "cell_type": "markdown",
     "metadata": {},
     "source": [
      "# $Q(s^n)$"
     ]
    },
    {
     "cell_type": "code",
     "collapsed": false,
     "input": [
      "def simulate_cluster(p=10, q=5, mu=10):\n",
      "    sigma = np.random.normal(0.0, 1.0, p * q).reshape(p, q)\n",
      "    sigma = np.eye(p)\n",
      "    mu = np.random.normal(mu, 0.1, p)\n",
      "    return (sigma, mu)\n",
      "\n",
      "def simulate_samples(sigma, mu, n=10, noise=0.0):\n",
      "    [p, q] = sigma.shape\n",
      "    x = np.random.normal(0.0, 1.0, q * n).reshape(q, n)\n",
      "    y = sigma.dot(x) + mu[:, np.newaxis]\n",
      "    if noise > 0.0:\n",
      "        y += np.random.normal(0.0, noise, p * n).reshape(p, n)\n",
      "    return (y, x)"
     ],
     "language": "python",
     "metadata": {},
     "outputs": [],
     "prompt_number": 5
    },
    {
     "cell_type": "code",
     "collapsed": false,
     "input": [
      "def normalize(s):\n",
      "    sn = np.exp(s)\n",
      "    sn /= np.sum(sn, 0)\n",
      "    return sn"
     ],
     "language": "python",
     "metadata": {},
     "outputs": [],
     "prompt_number": 6
    },
    {
     "cell_type": "code",
     "collapsed": false,
     "input": [
      "np.random.seed(0)\n",
      "clusters = list()\n",
      "clusters.append(simulate_cluster(p=2, q=2, mu=0.0))\n",
      "clusters.append(simulate_cluster(p=2, q=2, mu=5.0))\n",
      "samples = list()\n",
      "for i in range(len(clusters)):\n",
      "    samples.append(simulate_samples(clusters[i][0], clusters[i][1], n=10, noise=0.0))\n",
      "y = 0.6 * samples[0][0] + 0.4 * samples[1][0]\n",
      "x = 0.6 * samples[0][1] + 0.4 * samples[1][1]\n",
      "y = np.hstack((y, samples[0][0], samples[1][0]))\n",
      "x = np.hstack((x, samples[0][1], samples[1][1]))\n",
      "mfa = model.Model(model.Hyper(y.shape[0], x.shape[0], 2), y)\n",
      "mfa.h.psi_d.fill(1)\n",
      "mfa.h.init_psi()\n",
      "for i in range(len(clusters)):\n",
      "    mfa.q_l[i].mean = clusters[i][0]\n",
      "    mfa.q_m[i].mean = clusters[i][1]\n",
      "    mfa.q_x[i].mean = x\n",
      "    mfa.q_lm[i].build_cov()\n",
      "mfa.update_s()\n",
      "print tr(mfa.q_s.s)"
     ],
     "language": "python",
     "metadata": {},
     "outputs": [
      {
       "output_type": "stream",
       "stream": "stdout",
       "text": [
        "[[ 0.9938  0.0062]\n",
        " [ 0.9938  0.0062]\n",
        " [ 0.9938  0.0062]\n",
        " [ 0.9938  0.0062]\n",
        " [ 0.9938  0.0062]\n",
        " [ 0.9938  0.0062]\n",
        " [ 0.9938  0.0062]\n",
        " [ 0.9938  0.0062]\n",
        " [ 0.9938  0.0062]\n",
        " [ 0.9938  0.0062]\n",
        " [ 1.      0.    ]\n",
        " [ 1.      0.    ]\n",
        " [ 1.      0.    ]\n",
        " [ 1.      0.    ]\n",
        " [ 1.      0.    ]\n",
        " [ 1.      0.    ]\n",
        " [ 1.      0.    ]\n",
        " [ 1.      0.    ]\n",
        " [ 1.      0.    ]\n",
        " [ 1.      0.    ]\n",
        " [ 0.      1.    ]\n",
        " [ 0.      1.    ]\n",
        " [ 0.      1.    ]\n",
        " [ 0.      1.    ]\n",
        " [ 0.      1.    ]\n",
        " [ 0.      1.    ]\n",
        " [ 0.      1.    ]\n",
        " [ 0.      1.    ]\n",
        " [ 0.      1.    ]\n",
        " [ 0.      1.    ]]\n"
       ]
      }
     ],
     "prompt_number": 7
    }
   ],
   "metadata": {}
  }
 ]
}