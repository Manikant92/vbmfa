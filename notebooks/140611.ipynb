{
 "metadata": {
  "name": "",
  "signature": "sha256:cd142aad90fe251b378f51f25f832cdf67fbf956a2294b5fa8fa8d88cbbd9a6e"
 },
 "nbformat": 3,
 "nbformat_minor": 0,
 "worksheets": []
}