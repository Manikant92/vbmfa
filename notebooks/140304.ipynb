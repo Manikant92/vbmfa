{
 "metadata": {
  "name": ""
 },
 "nbformat": 3,
 "nbformat_minor": 0,
 "worksheets": [
  {
   "cells": [
    {
     "cell_type": "heading",
     "level": 1,
     "metadata": {},
     "source": [
      "TODO"
     ]
    },
    {
     "cell_type": "markdown",
     "metadata": {},
     "source": [
      "1. Check matlab functions\n",
      "2. Improve initialization\n",
      "    * kmeans clustering\n",
      "    * and PCA\n",
      "    * Code FA https://github.com/PMBio/sparseFA\n",
      "3. Specify update schedule"
     ]
    },
    {
     "cell_type": "heading",
     "level": 1,
     "metadata": {},
     "source": [
      "Converter"
     ]
    },
    {
     "cell_type": "code",
     "collapsed": false,
     "input": [
      "import numpy as np\n",
      "import scipy.io as io\n",
      "import sys\n",
      "sys.path.append('../src')\n",
      "%load_ext autoreload\n",
      "%autoreload 2\n",
      "\n",
      "import model\n",
      "import vbmfa"
     ],
     "language": "python",
     "metadata": {},
     "outputs": [],
     "prompt_number": 1
    },
    {
     "cell_type": "code",
     "collapsed": false,
     "input": [
      "np.random.seed(0)\n",
      "P = 3\n",
      "Q = 2\n",
      "S = 5\n",
      "N = 3\n",
      "y = np.random.multivariate_normal(mean=np.zeros(P), cov=np.eye(P), size=N)\n",
      "m = model.Model(model.Hyper(P, Q, S), y)\n",
      "mm = vbmfa.from_model(m)"
     ],
     "language": "python",
     "metadata": {},
     "outputs": [],
     "prompt_number": 2
    }
   ],
   "metadata": {}
  }
 ]
}